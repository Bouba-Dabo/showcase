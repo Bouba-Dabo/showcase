{
 "cells": [
  {
   "cell_type": "markdown",
   "id": "c33b5715",
   "metadata": {},
   "source": [
    "# 🚀 Machine Learning Classification Showcase\n",
    "**Démonstration avancée d'algorithmes de classification - Boubacar DABO**\n",
    "\n",
    "---\n",
    "\n",
    "## 🎯 Objectifs de ce notebook\n",
    "\n",
    "Ce notebook présente une **analyse complète de classification multi-classe** avec :\n",
    "\n",
    "- 📊 **Exploration de données** approfondie\n",
    "- 🤖 **Comparaison d'algorithmes ML** (Random Forest, XGBoost, SVM, Neural Networks)\n",
    "- ⚙️ **Optimisation d'hyperparamètres** avec GridSearch\n",
    "- 📈 **Visualisations professionnelles** des résultats\n",
    "- 🔍 **Analyse des performances** avec métriques avancées\n",
    "\n",
    "> **Auteur** : Boubacar DABO - Étudiant-ingénieur Big Data & IA @ ESIGELEC  \n",
    "> **Date** : Juillet 2025  \n",
    "> **Portfolio** : [bouba-dabo.github.io/portfolio](https://bouba-dabo.github.io/portfolio)"
   ]
  },
  {
   "cell_type": "markdown",
   "id": "a4535e70",
   "metadata": {},
   "source": [
    "## 📦 1. Installation des packages requis\n",
    "\n",
    "Avant de commencer, nous installons tous les packages nécessaires pour cette démonstration."
   ]
  },
  {
   "cell_type": "code",
   "execution_count": null,
   "id": "31b00d14",
   "metadata": {},
   "outputs": [],
   "source": [
    "# Installation des packages essentiels (exécuter seulement si nécessaire)\n",
    "# !pip install scikit-learn pandas numpy matplotlib seaborn plotly xgboost\n",
    "\n",
    "import warnings\n",
    "warnings.filterwarnings('ignore')\n",
    "\n",
    "print(\"✅ Packages prêts pour l'analyse ML avancée !\")"
   ]
  },
  {
   "cell_type": "code",
   "execution_count": null,
   "id": "111660b0",
   "metadata": {},
   "outputs": [],
   "source": [
    "# ===============================\n",
    "# IMPORTATION DES BIBLIOTHÈQUES\n",
    "# ===============================\n",
    "\n",
    "# Manipulation de données\n",
    "import pandas as pd\n",
    "import numpy as np\n",
    "from sklearn.datasets import make_classification, load_wine\n",
    "\n",
    "# Preprocessing et split des données\n",
    "from sklearn.model_selection import train_test_split, GridSearchCV, cross_val_score\n",
    "from sklearn.preprocessing import StandardScaler, LabelEncoder\n",
    "from sklearn.metrics import classification_report, confusion_matrix, accuracy_score, roc_curve, auc\n",
    "\n",
    "# Algorithmes de Machine Learning\n",
    "from sklearn.ensemble import RandomForestClassifier\n",
    "from sklearn.svm import SVC\n",
    "from sklearn.linear_model import LogisticRegression\n",
    "from sklearn.neighbors import KNeighborsClassifier\n",
    "import xgboost as xgb\n",
    "\n",
    "# Visualisations\n",
    "import matplotlib.pyplot as plt\n",
    "import seaborn as sns\n",
    "import plotly.express as px\n",
    "import plotly.graph_objects as go\n",
    "from plotly.subplots import make_subplots\n",
    "\n",
    "# Configuration des graphiques\n",
    "plt.style.use('seaborn-v0_8')\n",
    "sns.set_palette(\"husl\")\n",
    "\n",
    "print(\"🎯 Toutes les bibliothèques importées avec succès !\")\n",
    "print(f\"📊 Pandas version: {pd.__version__}\")\n",
    "print(f\"🔢 NumPy version: {np.__version__}\")\n",
    "print(f\"🤖 Scikit-learn prêt pour l'analyse !\")"
   ]
  }
 ],
 "metadata": {
  "language_info": {
   "name": "python"
  }
 },
 "nbformat": 4,
 "nbformat_minor": 5
}
